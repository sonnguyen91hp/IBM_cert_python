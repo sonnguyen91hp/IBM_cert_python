{
 "cells": [
  {
   "cell_type": "markdown",
   "source": [
    "# Data Science Tools and Ecosystem"
   ],
   "metadata": {
    "collapsed": false
   },
   "id": "6d4e7959400cfa58"
  },
  {
   "cell_type": "markdown",
   "source": [
    "In this notebook, Data Science Tools and Ecosystem are summarized."
   ],
   "metadata": {
    "collapsed": false
   },
   "id": "d0a713bc063878bc"
  },
  {
   "cell_type": "markdown",
   "source": [
    "Some of the popular languages that Data Scientists use are:\n",
    "1. R\n",
    "2. Python\n",
    "3. Julia"
   ],
   "metadata": {
    "collapsed": false
   },
   "id": "6643678593e101be"
  },
  {
   "cell_type": "markdown",
   "source": [
    "Some of the commonly used libraries used by Data Scientists include:\n",
    "1. Tidyverse\n",
    "2. ggplot2\n",
    "3. numPy\n",
    "4. pandas"
   ],
   "metadata": {
    "collapsed": false
   },
   "id": "82a5b880aadef53a"
  },
  {
   "cell_type": "markdown",
   "source": [
    "| Data Science Tools | \n",
    "|--------------------|\n",
    "| Spyder             |\n",
    "| PyCharm            |\n",
    "| RStudio            |"
   ],
   "metadata": {
    "collapsed": false
   },
   "id": "cea097d5675e9006"
  },
  {
   "cell_type": "markdown",
   "source": [
    "### Below are a few examples of evaluating arithmetic expressions in Python"
   ],
   "metadata": {
    "collapsed": false
   },
   "id": "a9fb60d2f5a16241"
  },
  {
   "cell_type": "code",
   "execution_count": 5,
   "outputs": [
    {
     "data": {
      "text/plain": "17"
     },
     "execution_count": 5,
     "metadata": {},
     "output_type": "execute_result"
    }
   ],
   "source": [
    "# This a simple arithmetic expression to multiply then add integers\n",
    "(3*4)+5"
   ],
   "metadata": {
    "collapsed": false,
    "ExecuteTime": {
     "end_time": "2023-07-31T12:50:19.899676800Z",
     "start_time": "2023-07-31T12:50:19.891026500Z"
    }
   },
   "id": "d1e121865727b1d4"
  },
  {
   "cell_type": "code",
   "execution_count": 6,
   "outputs": [
    {
     "data": {
      "text/plain": "3.3333333333333335"
     },
     "execution_count": 6,
     "metadata": {},
     "output_type": "execute_result"
    }
   ],
   "source": [
    "# This will convert 200 minutes to hours by diving by 60\n",
    "200/60"
   ],
   "metadata": {
    "collapsed": false,
    "ExecuteTime": {
     "end_time": "2023-07-31T12:50:20.197033200Z",
     "start_time": "2023-07-31T12:50:20.184484600Z"
    }
   },
   "id": "2fc6956e1d782ddf"
  },
  {
   "cell_type": "markdown",
   "source": [
    "**Objectives:**\n",
    "- Data Science Tools\n",
    "- Libraries used by Data Scientists\n",
    "- Popular languages that Data Scientists use"
   ],
   "metadata": {
    "collapsed": false
   },
   "id": "8e1bb72bf6888a8b"
  },
  {
   "cell_type": "markdown",
   "source": [
    "## Author\n",
    "Son Nguyen"
   ],
   "metadata": {
    "collapsed": false
   },
   "id": "b21bdcca496a42ce"
  },
  {
   "cell_type": "code",
   "execution_count": null,
   "outputs": [],
   "source": [],
   "metadata": {
    "collapsed": false
   },
   "id": "5cb44da413f3eecb"
  }
 ],
 "metadata": {
  "kernelspec": {
   "display_name": "Python 3",
   "language": "python",
   "name": "python3"
  },
  "language_info": {
   "codemirror_mode": {
    "name": "ipython",
    "version": 2
   },
   "file_extension": ".py",
   "mimetype": "text/x-python",
   "name": "python",
   "nbconvert_exporter": "python",
   "pygments_lexer": "ipython2",
   "version": "2.7.6"
  }
 },
 "nbformat": 4,
 "nbformat_minor": 5
}
